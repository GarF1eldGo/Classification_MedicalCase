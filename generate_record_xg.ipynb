{
 "cells": [
  {
   "cell_type": "code",
   "execution_count": 8,
   "metadata": {},
   "outputs": [
    {
     "name": "stdout",
     "output_type": "stream",
     "text": [
      "医案抽取完成，共抽取101个医案， 存放在Record Collections XG\\Raw Medical Record目录下\n"
     ]
    }
   ],
   "source": [
    "import os\n",
    "import re\n",
    "\n",
    "SOURCE_FILE = \"新冠肺炎医案百例.txt\"\n",
    "\n",
    "def preprocess(lines):\n",
    "    '''\n",
    "    @description: 预处理，删除无用行\n",
    "    @param {list} lines: 每一行的内容\n",
    "    @return {string}: 预处理后的内容\n",
    "    '''\n",
    "\n",
    "    # 移除仅包含数字的一行\n",
    "    for line in lines:\n",
    "        reg = re.compile(r'^\\d+\\n')\n",
    "        if re.match(reg, line):\n",
    "            lines.remove(line)\n",
    "    \n",
    "    result = \"\".join(lines)\n",
    "    result = result.replace(\" \", \"\") # 删除空格\n",
    "    result = result.replace(\"　\", \"\") # 删除全角空格\n",
    "    result = result.replace(\"\\t\", \"\") # 删除制表符\n",
    "    result = result.replace(\"新冠肺炎医案百例\", \"\") # 删除无效信息\n",
    "\n",
    "    return result\n",
    "\n",
    "\n",
    "def extract(content):\n",
    "    '''\n",
    "    @description: 抽取医案\n",
    "    @param {string} content: 预处理后的内容\n",
    "    @return {None}:\n",
    "    '''\n",
    "    ROOT_DIR = 'Record Collections XG'\n",
    "    TARGET_DIR = 'Raw Medical Record'\n",
    "    if not os.path.exists(ROOT_DIR):\n",
    "        os.mkdir(ROOT_DIR)\n",
    "    if not os.path.exists(os.path.join(ROOT_DIR, TARGET_DIR)):\n",
    "        os.mkdir(os.path.join(ROOT_DIR, TARGET_DIR))\n",
    "\n",
    "    # 清空目标文件夹\n",
    "    for file in os.listdir(os.path.join(ROOT_DIR, TARGET_DIR)):\n",
    "        os.remove(os.path.join(ROOT_DIR, TARGET_DIR, file))\n",
    "\n",
    "    # 按照`病案1`分割\n",
    "    reg = re.compile(r'\\n病案\\d+\\n')\n",
    "    start_list = []\n",
    "    record_list = []\n",
    "    for match in re.finditer(reg, content):\n",
    "        start_list.append(match.start())\n",
    "    for i in range(len(start_list)):\n",
    "        if i == 0:\n",
    "            record_list.append(content[:start_list[i]])\n",
    "            \n",
    "        if i == len(start_list) - 1:\n",
    "            record_list.append(content[start_list[i]:])\n",
    "        else:\n",
    "            record_list.append(content[start_list[i]:start_list[i+1]])\n",
    "    count = 0\n",
    "    for record in record_list:\n",
    "        count += 1\n",
    "        with open(os.path.join(ROOT_DIR, TARGET_DIR, '病案{}.txt'.format(count)), \"w\", encoding=\"utf-8\") as f:\n",
    "            f.write(record)\n",
    "    # records = re.split(reg, content)\n",
    "    # count = 0\n",
    "    # for record in records:\n",
    "    #     if record != '':\n",
    "    #         count += 1\n",
    "    #         with open(os.path.join(ROOT_DIR, TARGET_DIR, '病案{}.txt'.format(count)), \"w\", encoding=\"utf-8\") as f:\n",
    "    #             f.write(record)\n",
    "\n",
    "    print('医案抽取完成，共抽取{}个医案， 存放在{}目录下'.format(count, os.path.join(ROOT_DIR, TARGET_DIR)))\n",
    "\n",
    "\n",
    "with open(SOURCE_FILE, \"r\", encoding=\"utf-8\") as f:\n",
    "    lines = f.readlines()\n",
    "    content = preprocess(lines) # 预处理\n",
    "    extract(content) # 抽取医案"
   ]
  },
  {
   "cell_type": "code",
   "execution_count": null,
   "metadata": {},
   "outputs": [],
   "source": []
  }
 ],
 "metadata": {
  "kernelspec": {
   "display_name": "nlp",
   "language": "python",
   "name": "python3"
  },
  "language_info": {
   "codemirror_mode": {
    "name": "ipython",
    "version": 3
   },
   "file_extension": ".py",
   "mimetype": "text/x-python",
   "name": "python",
   "nbconvert_exporter": "python",
   "pygments_lexer": "ipython3",
   "version": "3.10.10"
  },
  "orig_nbformat": 4
 },
 "nbformat": 4,
 "nbformat_minor": 2
}
