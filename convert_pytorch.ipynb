{
 "cells": [
  {
   "cell_type": "code",
   "execution_count": 1,
   "metadata": {},
   "outputs": [
    {
     "name": "stderr",
     "output_type": "stream",
     "text": [
      "d:\\dck\\Softwares\\anaconda\\envs\\nlp\\lib\\site-packages\\tqdm\\auto.py:21: TqdmWarning: IProgress not found. Please update jupyter and ipywidgets. See https://ipywidgets.readthedocs.io/en/stable/user_install.html\n",
      "  from .autonotebook import tqdm as notebook_tqdm\n"
     ]
    }
   ],
   "source": [
    "from transformers import BertConfig, BertForPreTraining, load_tf_weights_in_bert\n",
    "import os\n",
    "\n",
    "model_dir = 'BERT/chinese_bert_wwm_ext_L-12_H-768_A-12/'\n",
    "\n",
    "# 定义模型配置\n",
    "config = BertConfig.from_json_file(os.path.join(model_dir, \"bert_config.json\"))\n",
    "\n",
    "# 定义PyTorch模型\n",
    "model = BertForPreTraining(config)\n",
    "\n",
    "# 加载TensorFlow模型权重\n",
    "load_tf_weights_in_bert(model, config, os.path.join(model_dir, \"bert_model.ckpt\"))\n",
    "\n",
    "# 保存PyTorch模型权重\n",
    "model.save_pretrained(os.path.join(model_dir, \"pytorch_model.bin\"))\n"
   ]
  },
  {
   "cell_type": "code",
   "execution_count": null,
   "metadata": {},
   "outputs": [],
   "source": []
  }
 ],
 "metadata": {
  "kernelspec": {
   "display_name": "nlp",
   "language": "python",
   "name": "python3"
  },
  "language_info": {
   "codemirror_mode": {
    "name": "ipython",
    "version": 3
   },
   "file_extension": ".py",
   "mimetype": "text/x-python",
   "name": "python",
   "nbconvert_exporter": "python",
   "pygments_lexer": "ipython3",
   "version": "3.10.10"
  },
  "orig_nbformat": 4
 },
 "nbformat": 4,
 "nbformat_minor": 2
}
