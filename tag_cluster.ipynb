{
 "cells": [
  {
   "cell_type": "code",
   "execution_count": 6,
   "metadata": {},
   "outputs": [
    {
     "name": "stderr",
     "output_type": "stream",
     "text": [
      "d:\\dck\\Softwares\\anaconda\\envs\\nlp\\lib\\site-packages\\sklearn\\cluster\\_kmeans.py:870: FutureWarning: The default value of `n_init` will change from 10 to 'auto' in 1.4. Set the value of `n_init` explicitly to suppress the warning\n",
      "  warnings.warn(\n"
     ]
    },
    {
     "ename": "AttributeError",
     "evalue": "'NoneType' object has no attribute 'split'",
     "output_type": "error",
     "traceback": [
      "\u001b[1;31m---------------------------------------------------------------------------\u001b[0m",
      "\u001b[1;31mAttributeError\u001b[0m                            Traceback (most recent call last)",
      "Cell \u001b[1;32mIn[6], line 38\u001b[0m\n\u001b[0;32m     35\u001b[0m     \u001b[39mprint\u001b[39m(clusters)\n\u001b[0;32m     37\u001b[0m \u001b[39mif\u001b[39;00m \u001b[39m__name__\u001b[39m \u001b[39m==\u001b[39m \u001b[39m'\u001b[39m\u001b[39m__main__\u001b[39m\u001b[39m'\u001b[39m:\n\u001b[1;32m---> 38\u001b[0m     main()\n",
      "Cell \u001b[1;32mIn[6], line 34\u001b[0m, in \u001b[0;36mmain\u001b[1;34m()\u001b[0m\n\u001b[0;32m     32\u001b[0m \u001b[39mdef\u001b[39;00m \u001b[39mmain\u001b[39m():\n\u001b[0;32m     33\u001b[0m     X, labels \u001b[39m=\u001b[39m read_data()\n\u001b[1;32m---> 34\u001b[0m     clusters \u001b[39m=\u001b[39m cluster(X, labels)\n\u001b[0;32m     35\u001b[0m     \u001b[39mprint\u001b[39m(clusters)\n",
      "Cell \u001b[1;32mIn[6], line 28\u001b[0m, in \u001b[0;36mcluster\u001b[1;34m(X, labels)\u001b[0m\n\u001b[0;32m     26\u001b[0m num_clusters \u001b[39m=\u001b[39m \u001b[39m10\u001b[39m\n\u001b[0;32m     27\u001b[0m km \u001b[39m=\u001b[39m KMeans(n_clusters\u001b[39m=\u001b[39mnum_clusters)\n\u001b[1;32m---> 28\u001b[0m km\u001b[39m.\u001b[39;49mfit(X)\n\u001b[0;32m     29\u001b[0m clusters \u001b[39m=\u001b[39m km\u001b[39m.\u001b[39mlabels_\u001b[39m.\u001b[39mtolist()\n\u001b[0;32m     30\u001b[0m \u001b[39mreturn\u001b[39;00m clusters\n",
      "File \u001b[1;32md:\\dck\\Softwares\\anaconda\\envs\\nlp\\lib\\site-packages\\sklearn\\cluster\\_kmeans.py:1468\u001b[0m, in \u001b[0;36mKMeans.fit\u001b[1;34m(self, X, y, sample_weight)\u001b[0m\n\u001b[0;32m   1465\u001b[0m     \u001b[39mprint\u001b[39m(\u001b[39m\"\u001b[39m\u001b[39mInitialization complete\u001b[39m\u001b[39m\"\u001b[39m)\n\u001b[0;32m   1467\u001b[0m \u001b[39m# run a k-means once\u001b[39;00m\n\u001b[1;32m-> 1468\u001b[0m labels, inertia, centers, n_iter_ \u001b[39m=\u001b[39m kmeans_single(\n\u001b[0;32m   1469\u001b[0m     X,\n\u001b[0;32m   1470\u001b[0m     sample_weight,\n\u001b[0;32m   1471\u001b[0m     centers_init,\n\u001b[0;32m   1472\u001b[0m     max_iter\u001b[39m=\u001b[39;49m\u001b[39mself\u001b[39;49m\u001b[39m.\u001b[39;49mmax_iter,\n\u001b[0;32m   1473\u001b[0m     verbose\u001b[39m=\u001b[39;49m\u001b[39mself\u001b[39;49m\u001b[39m.\u001b[39;49mverbose,\n\u001b[0;32m   1474\u001b[0m     tol\u001b[39m=\u001b[39;49m\u001b[39mself\u001b[39;49m\u001b[39m.\u001b[39;49m_tol,\n\u001b[0;32m   1475\u001b[0m     n_threads\u001b[39m=\u001b[39;49m\u001b[39mself\u001b[39;49m\u001b[39m.\u001b[39;49m_n_threads,\n\u001b[0;32m   1476\u001b[0m )\n\u001b[0;32m   1478\u001b[0m \u001b[39m# determine if these results are the best so far\u001b[39;00m\n\u001b[0;32m   1479\u001b[0m \u001b[39m# we chose a new run if it has a better inertia and the clustering is\u001b[39;00m\n\u001b[0;32m   1480\u001b[0m \u001b[39m# different from the best so far (it's possible that the inertia is\u001b[39;00m\n\u001b[0;32m   1481\u001b[0m \u001b[39m# slightly better even if the clustering is the same with potentially\u001b[39;00m\n\u001b[0;32m   1482\u001b[0m \u001b[39m# permuted labels, due to rounding errors)\u001b[39;00m\n\u001b[0;32m   1483\u001b[0m \u001b[39mif\u001b[39;00m best_inertia \u001b[39mis\u001b[39;00m \u001b[39mNone\u001b[39;00m \u001b[39mor\u001b[39;00m (\n\u001b[0;32m   1484\u001b[0m     inertia \u001b[39m<\u001b[39m best_inertia\n\u001b[0;32m   1485\u001b[0m     \u001b[39mand\u001b[39;00m \u001b[39mnot\u001b[39;00m _is_same_clustering(labels, best_labels, \u001b[39mself\u001b[39m\u001b[39m.\u001b[39mn_clusters)\n\u001b[0;32m   1486\u001b[0m ):\n",
      "File \u001b[1;32md:\\dck\\Softwares\\anaconda\\envs\\nlp\\lib\\site-packages\\sklearn\\cluster\\_kmeans.py:679\u001b[0m, in \u001b[0;36m_kmeans_single_lloyd\u001b[1;34m(X, sample_weight, centers_init, max_iter, verbose, tol, n_threads)\u001b[0m\n\u001b[0;32m    675\u001b[0m strict_convergence \u001b[39m=\u001b[39m \u001b[39mFalse\u001b[39;00m\n\u001b[0;32m    677\u001b[0m \u001b[39m# Threadpoolctl context to limit the number of threads in second level of\u001b[39;00m\n\u001b[0;32m    678\u001b[0m \u001b[39m# nested parallelism (i.e. BLAS) to avoid oversubscription.\u001b[39;00m\n\u001b[1;32m--> 679\u001b[0m \u001b[39mwith\u001b[39;00m threadpool_limits(limits\u001b[39m=\u001b[39;49m\u001b[39m1\u001b[39;49m, user_api\u001b[39m=\u001b[39;49m\u001b[39m\"\u001b[39;49m\u001b[39mblas\u001b[39;49m\u001b[39m\"\u001b[39;49m):\n\u001b[0;32m    680\u001b[0m     \u001b[39mfor\u001b[39;00m i \u001b[39min\u001b[39;00m \u001b[39mrange\u001b[39m(max_iter):\n\u001b[0;32m    681\u001b[0m         lloyd_iter(\n\u001b[0;32m    682\u001b[0m             X,\n\u001b[0;32m    683\u001b[0m             sample_weight,\n\u001b[1;32m   (...)\u001b[0m\n\u001b[0;32m    689\u001b[0m             n_threads,\n\u001b[0;32m    690\u001b[0m         )\n",
      "File \u001b[1;32md:\\dck\\Softwares\\anaconda\\envs\\nlp\\lib\\site-packages\\sklearn\\utils\\fixes.py:139\u001b[0m, in \u001b[0;36mthreadpool_limits\u001b[1;34m(limits, user_api)\u001b[0m\n\u001b[0;32m    137\u001b[0m     \u001b[39mreturn\u001b[39;00m controller\u001b[39m.\u001b[39mlimit(limits\u001b[39m=\u001b[39mlimits, user_api\u001b[39m=\u001b[39muser_api)\n\u001b[0;32m    138\u001b[0m \u001b[39melse\u001b[39;00m:\n\u001b[1;32m--> 139\u001b[0m     \u001b[39mreturn\u001b[39;00m threadpoolctl\u001b[39m.\u001b[39;49mthreadpool_limits(limits\u001b[39m=\u001b[39;49mlimits, user_api\u001b[39m=\u001b[39;49muser_api)\n",
      "File \u001b[1;32md:\\dck\\Softwares\\anaconda\\envs\\nlp\\lib\\site-packages\\threadpoolctl.py:171\u001b[0m, in \u001b[0;36mthreadpool_limits.__init__\u001b[1;34m(self, limits, user_api)\u001b[0m\n\u001b[0;32m    167\u001b[0m \u001b[39mdef\u001b[39;00m \u001b[39m__init__\u001b[39m(\u001b[39mself\u001b[39m, limits\u001b[39m=\u001b[39m\u001b[39mNone\u001b[39;00m, user_api\u001b[39m=\u001b[39m\u001b[39mNone\u001b[39;00m):\n\u001b[0;32m    168\u001b[0m     \u001b[39mself\u001b[39m\u001b[39m.\u001b[39m_limits, \u001b[39mself\u001b[39m\u001b[39m.\u001b[39m_user_api, \u001b[39mself\u001b[39m\u001b[39m.\u001b[39m_prefixes \u001b[39m=\u001b[39m \\\n\u001b[0;32m    169\u001b[0m         \u001b[39mself\u001b[39m\u001b[39m.\u001b[39m_check_params(limits, user_api)\n\u001b[1;32m--> 171\u001b[0m     \u001b[39mself\u001b[39m\u001b[39m.\u001b[39m_original_info \u001b[39m=\u001b[39m \u001b[39mself\u001b[39;49m\u001b[39m.\u001b[39;49m_set_threadpool_limits()\n",
      "File \u001b[1;32md:\\dck\\Softwares\\anaconda\\envs\\nlp\\lib\\site-packages\\threadpoolctl.py:268\u001b[0m, in \u001b[0;36mthreadpool_limits._set_threadpool_limits\u001b[1;34m(self)\u001b[0m\n\u001b[0;32m    265\u001b[0m \u001b[39mif\u001b[39;00m \u001b[39mself\u001b[39m\u001b[39m.\u001b[39m_limits \u001b[39mis\u001b[39;00m \u001b[39mNone\u001b[39;00m:\n\u001b[0;32m    266\u001b[0m     \u001b[39mreturn\u001b[39;00m \u001b[39mNone\u001b[39;00m\n\u001b[1;32m--> 268\u001b[0m modules \u001b[39m=\u001b[39m _ThreadpoolInfo(prefixes\u001b[39m=\u001b[39;49m\u001b[39mself\u001b[39;49m\u001b[39m.\u001b[39;49m_prefixes,\n\u001b[0;32m    269\u001b[0m                           user_api\u001b[39m=\u001b[39;49m\u001b[39mself\u001b[39;49m\u001b[39m.\u001b[39;49m_user_api)\n\u001b[0;32m    270\u001b[0m \u001b[39mfor\u001b[39;00m module \u001b[39min\u001b[39;00m modules:\n\u001b[0;32m    271\u001b[0m     \u001b[39m# self._limits is a dict {key: num_threads} where key is either\u001b[39;00m\n\u001b[0;32m    272\u001b[0m     \u001b[39m# a prefix or a user_api. If a module matches both, the limit\u001b[39;00m\n\u001b[0;32m    273\u001b[0m     \u001b[39m# corresponding to the prefix is chosed.\u001b[39;00m\n\u001b[0;32m    274\u001b[0m     \u001b[39mif\u001b[39;00m module\u001b[39m.\u001b[39mprefix \u001b[39min\u001b[39;00m \u001b[39mself\u001b[39m\u001b[39m.\u001b[39m_limits:\n",
      "File \u001b[1;32md:\\dck\\Softwares\\anaconda\\envs\\nlp\\lib\\site-packages\\threadpoolctl.py:340\u001b[0m, in \u001b[0;36m_ThreadpoolInfo.__init__\u001b[1;34m(self, user_api, prefixes, modules)\u001b[0m\n\u001b[0;32m    337\u001b[0m     \u001b[39mself\u001b[39m\u001b[39m.\u001b[39muser_api \u001b[39m=\u001b[39m [] \u001b[39mif\u001b[39;00m user_api \u001b[39mis\u001b[39;00m \u001b[39mNone\u001b[39;00m \u001b[39melse\u001b[39;00m user_api\n\u001b[0;32m    339\u001b[0m     \u001b[39mself\u001b[39m\u001b[39m.\u001b[39mmodules \u001b[39m=\u001b[39m []\n\u001b[1;32m--> 340\u001b[0m     \u001b[39mself\u001b[39;49m\u001b[39m.\u001b[39;49m_load_modules()\n\u001b[0;32m    341\u001b[0m     \u001b[39mself\u001b[39m\u001b[39m.\u001b[39m_warn_if_incompatible_openmp()\n\u001b[0;32m    342\u001b[0m \u001b[39melse\u001b[39;00m:\n",
      "File \u001b[1;32md:\\dck\\Softwares\\anaconda\\envs\\nlp\\lib\\site-packages\\threadpoolctl.py:373\u001b[0m, in \u001b[0;36m_ThreadpoolInfo._load_modules\u001b[1;34m(self)\u001b[0m\n\u001b[0;32m    371\u001b[0m     \u001b[39mself\u001b[39m\u001b[39m.\u001b[39m_find_modules_with_dyld()\n\u001b[0;32m    372\u001b[0m \u001b[39melif\u001b[39;00m sys\u001b[39m.\u001b[39mplatform \u001b[39m==\u001b[39m \u001b[39m\"\u001b[39m\u001b[39mwin32\u001b[39m\u001b[39m\"\u001b[39m:\n\u001b[1;32m--> 373\u001b[0m     \u001b[39mself\u001b[39;49m\u001b[39m.\u001b[39;49m_find_modules_with_enum_process_module_ex()\n\u001b[0;32m    374\u001b[0m \u001b[39melse\u001b[39;00m:\n\u001b[0;32m    375\u001b[0m     \u001b[39mself\u001b[39m\u001b[39m.\u001b[39m_find_modules_with_dl_iterate_phdr()\n",
      "File \u001b[1;32md:\\dck\\Softwares\\anaconda\\envs\\nlp\\lib\\site-packages\\threadpoolctl.py:485\u001b[0m, in \u001b[0;36m_ThreadpoolInfo._find_modules_with_enum_process_module_ex\u001b[1;34m(self)\u001b[0m\n\u001b[0;32m    482\u001b[0m         filepath \u001b[39m=\u001b[39m buf\u001b[39m.\u001b[39mvalue\n\u001b[0;32m    484\u001b[0m         \u001b[39m# Store the module if it is supported and selected\u001b[39;00m\n\u001b[1;32m--> 485\u001b[0m         \u001b[39mself\u001b[39;49m\u001b[39m.\u001b[39;49m_make_module_from_path(filepath)\n\u001b[0;32m    486\u001b[0m \u001b[39mfinally\u001b[39;00m:\n\u001b[0;32m    487\u001b[0m     kernel_32\u001b[39m.\u001b[39mCloseHandle(h_process)\n",
      "File \u001b[1;32md:\\dck\\Softwares\\anaconda\\envs\\nlp\\lib\\site-packages\\threadpoolctl.py:515\u001b[0m, in \u001b[0;36m_ThreadpoolInfo._make_module_from_path\u001b[1;34m(self, filepath)\u001b[0m\n\u001b[0;32m    513\u001b[0m \u001b[39mif\u001b[39;00m prefix \u001b[39min\u001b[39;00m \u001b[39mself\u001b[39m\u001b[39m.\u001b[39mprefixes \u001b[39mor\u001b[39;00m user_api \u001b[39min\u001b[39;00m \u001b[39mself\u001b[39m\u001b[39m.\u001b[39muser_api:\n\u001b[0;32m    514\u001b[0m     module_class \u001b[39m=\u001b[39m \u001b[39mglobals\u001b[39m()[module_class]\n\u001b[1;32m--> 515\u001b[0m     module \u001b[39m=\u001b[39m module_class(filepath, prefix, user_api, internal_api)\n\u001b[0;32m    516\u001b[0m     \u001b[39mself\u001b[39m\u001b[39m.\u001b[39mmodules\u001b[39m.\u001b[39mappend(module)\n",
      "File \u001b[1;32md:\\dck\\Softwares\\anaconda\\envs\\nlp\\lib\\site-packages\\threadpoolctl.py:606\u001b[0m, in \u001b[0;36m_Module.__init__\u001b[1;34m(self, filepath, prefix, user_api, internal_api)\u001b[0m\n\u001b[0;32m    604\u001b[0m \u001b[39mself\u001b[39m\u001b[39m.\u001b[39minternal_api \u001b[39m=\u001b[39m internal_api\n\u001b[0;32m    605\u001b[0m \u001b[39mself\u001b[39m\u001b[39m.\u001b[39m_dynlib \u001b[39m=\u001b[39m ctypes\u001b[39m.\u001b[39mCDLL(filepath, mode\u001b[39m=\u001b[39m_RTLD_NOLOAD)\n\u001b[1;32m--> 606\u001b[0m \u001b[39mself\u001b[39m\u001b[39m.\u001b[39mversion \u001b[39m=\u001b[39m \u001b[39mself\u001b[39;49m\u001b[39m.\u001b[39;49mget_version()\n\u001b[0;32m    607\u001b[0m \u001b[39mself\u001b[39m\u001b[39m.\u001b[39mnum_threads \u001b[39m=\u001b[39m \u001b[39mself\u001b[39m\u001b[39m.\u001b[39mget_num_threads()\n\u001b[0;32m    608\u001b[0m \u001b[39mself\u001b[39m\u001b[39m.\u001b[39m_get_extra_info()\n",
      "File \u001b[1;32md:\\dck\\Softwares\\anaconda\\envs\\nlp\\lib\\site-packages\\threadpoolctl.py:646\u001b[0m, in \u001b[0;36m_OpenBLASModule.get_version\u001b[1;34m(self)\u001b[0m\n\u001b[0;32m    643\u001b[0m get_config \u001b[39m=\u001b[39m \u001b[39mgetattr\u001b[39m(\u001b[39mself\u001b[39m\u001b[39m.\u001b[39m_dynlib, \u001b[39m\"\u001b[39m\u001b[39mopenblas_get_config\u001b[39m\u001b[39m\"\u001b[39m,\n\u001b[0;32m    644\u001b[0m                      \u001b[39mlambda\u001b[39;00m: \u001b[39mNone\u001b[39;00m)\n\u001b[0;32m    645\u001b[0m get_config\u001b[39m.\u001b[39mrestype \u001b[39m=\u001b[39m ctypes\u001b[39m.\u001b[39mc_char_p\n\u001b[1;32m--> 646\u001b[0m config \u001b[39m=\u001b[39m get_config()\u001b[39m.\u001b[39;49msplit()\n\u001b[0;32m    647\u001b[0m \u001b[39mif\u001b[39;00m config[\u001b[39m0\u001b[39m] \u001b[39m==\u001b[39m \u001b[39mb\u001b[39m\u001b[39m\"\u001b[39m\u001b[39mOpenBLAS\u001b[39m\u001b[39m\"\u001b[39m:\n\u001b[0;32m    648\u001b[0m     \u001b[39mreturn\u001b[39;00m config[\u001b[39m1\u001b[39m]\u001b[39m.\u001b[39mdecode(\u001b[39m\"\u001b[39m\u001b[39mutf-8\u001b[39m\u001b[39m\"\u001b[39m)\n",
      "\u001b[1;31mAttributeError\u001b[0m: 'NoneType' object has no attribute 'split'"
     ]
    }
   ],
   "source": [
    "import os\n",
    "from sklearn.cluster import KMeans\n",
    "import numpy as np\n",
    "import pandas as pd\n",
    "from sklearn.feature_extraction.text import TfidfVectorizer\n",
    "\n",
    "ROOT_DIR = 'Record Collections'\n",
    "FILENAME = 'medical_record.csv'\n",
    "\n",
    "def read_data():\n",
    "    ''' \n",
    "    读取csv文件\n",
    "    '''\n",
    "    file_path = os.path.join(ROOT_DIR, FILENAME)\n",
    "    data = pd.read_csv(file_path)\n",
    "    # 第一列为医案内容\n",
    "    # 第二列为对应的标签\n",
    "    labels = data['label'].apply(lambda x: x.split('\\n'))\n",
    "    \n",
    "    tfidf = TfidfVectorizer()\n",
    "    X = tfidf.fit_transform(data['text'])\n",
    "\n",
    "    return X, labels\n",
    "\n",
    "def cluster(X, labels):\n",
    "    num_clusters = 10\n",
    "    km = KMeans(n_clusters=num_clusters)\n",
    "    km.fit(X)\n",
    "    clusters = km.labels_.tolist()\n",
    "    return clusters\n",
    "\n",
    "def main():\n",
    "    X, labels = read_data()\n",
    "    clusters = cluster(X, labels)\n",
    "    print(clusters)\n",
    "\n",
    "if __name__ == '__main__':\n",
    "    main()"
   ]
  },
  {
   "cell_type": "code",
   "execution_count": null,
   "metadata": {},
   "outputs": [],
   "source": []
  }
 ],
 "metadata": {
  "kernelspec": {
   "display_name": "nlp",
   "language": "python",
   "name": "python3"
  },
  "language_info": {
   "codemirror_mode": {
    "name": "ipython",
    "version": 3
   },
   "file_extension": ".py",
   "mimetype": "text/x-python",
   "name": "python",
   "nbconvert_exporter": "python",
   "pygments_lexer": "ipython3",
   "version": "3.10.10"
  },
  "orig_nbformat": 4
 },
 "nbformat": 4,
 "nbformat_minor": 2
}
